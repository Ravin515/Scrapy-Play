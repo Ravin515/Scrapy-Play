{
 "cells": [
  {
   "cell_type": "code",
   "execution_count": 2,
   "metadata": {},
   "outputs": [],
   "source": [
    "library(styleer)"
   ]
  },
  {
   "cell_type": "markdown",
   "metadata": {},
   "source": [
    "# 1. 数据导入及清洗"
   ]
  },
  {
   "cell_type": "markdown",
   "metadata": {},
   "source": [
    "## 1. 对抓取的龙虎榜数据进行清洗 "
   ]
  },
  {
   "cell_type": "markdown",
   "metadata": {},
   "source": [
    "检测每一天的数据是否抓到最新"
   ]
  },
  {
   "cell_type": "code",
   "execution_count": 4,
   "metadata": {},
   "outputs": [
    {
     "data": {
      "text/html": [
       "<table class=\"dataframe\">\n",
       "<caption>A data.table: 5 × 6</caption>\n",
       "<thead>\n",
       "\t<tr><th scope=col>buy_inst_num</th><th scope=col>date</th><th scope=col>rank_reason</th><th scope=col>sell_inst_num</th><th scope=col>stock_name</th><th scope=col>stock_symbol</th></tr>\n",
       "\t<tr><th scope=col>&lt;dbl&gt;</th><th scope=col>&lt;date&gt;</th><th scope=col>&lt;chr&gt;</th><th scope=col>&lt;dbl&gt;</th><th scope=col>&lt;chr&gt;</th><th scope=col>&lt;int&gt;</th></tr>\n",
       "</thead>\n",
       "<tbody>\n",
       "\t<tr><td> 460.27</td><td>2022-01-26</td><td>有价格涨跌幅限制的日收盘价格涨幅达到15%的证券                </td><td> 709.01</td><td>建研设计</td><td>301167</td></tr>\n",
       "\t<tr><td>2009.31</td><td>2022-01-26</td><td>连续3个交易日内收盘价格跌幅较基准指数偏离值累计达到-30%的证券</td><td>9479.98</td><td>华宝股份</td><td>300741</td></tr>\n",
       "\t<tr><td>4907.75</td><td>2022-01-26</td><td>连续三个交易日内,涨幅偏离值累计达20%的证券                   </td><td>4232.23</td><td>深南股份</td><td>  2417</td></tr>\n",
       "\t<tr><td>   0.00</td><td>2022-01-26</td><td>日跌幅偏离值达7%的证券                                       </td><td>4220.17</td><td>岭南股份</td><td>  2717</td></tr>\n",
       "\t<tr><td>4406.32</td><td>2022-01-26</td><td>日跌幅偏离值达7%的证券                                       </td><td>3039.90</td><td>千红制药</td><td>  2550</td></tr>\n",
       "</tbody>\n",
       "</table>\n"
      ],
      "text/latex": [
       "A data.table: 5 × 6\n",
       "\\begin{tabular}{llllll}\n",
       " buy\\_inst\\_num & date & rank\\_reason & sell\\_inst\\_num & stock\\_name & stock\\_symbol\\\\\n",
       " <dbl> & <date> & <chr> & <dbl> & <chr> & <int>\\\\\n",
       "\\hline\n",
       "\t  460.27 & 2022-01-26 & 有价格涨跌幅限制的日收盘价格涨幅达到15\\%的证券                 &  709.01 & 建研设计 & 301167\\\\\n",
       "\t 2009.31 & 2022-01-26 & 连续3个交易日内收盘价格跌幅较基准指数偏离值累计达到-30\\%的证券 & 9479.98 & 华宝股份 & 300741\\\\\n",
       "\t 4907.75 & 2022-01-26 & 连续三个交易日内,涨幅偏离值累计达20\\%的证券                    & 4232.23 & 深南股份 &   2417\\\\\n",
       "\t    0.00 & 2022-01-26 & 日跌幅偏离值达7\\%的证券                                        & 4220.17 & 岭南股份 &   2717\\\\\n",
       "\t 4406.32 & 2022-01-26 & 日跌幅偏离值达7\\%的证券                                        & 3039.90 & 千红制药 &   2550\\\\\n",
       "\\end{tabular}\n"
      ],
      "text/markdown": [
       "\n",
       "A data.table: 5 × 6\n",
       "\n",
       "| buy_inst_num &lt;dbl&gt; | date &lt;date&gt; | rank_reason &lt;chr&gt; | sell_inst_num &lt;dbl&gt; | stock_name &lt;chr&gt; | stock_symbol &lt;int&gt; |\n",
       "|---|---|---|---|---|---|\n",
       "|  460.27 | 2022-01-26 | 有价格涨跌幅限制的日收盘价格涨幅达到15%的证券                 |  709.01 | 建研设计 | 301167 |\n",
       "| 2009.31 | 2022-01-26 | 连续3个交易日内收盘价格跌幅较基准指数偏离值累计达到-30%的证券 | 9479.98 | 华宝股份 | 300741 |\n",
       "| 4907.75 | 2022-01-26 | 连续三个交易日内,涨幅偏离值累计达20%的证券                    | 4232.23 | 深南股份 |   2417 |\n",
       "|    0.00 | 2022-01-26 | 日跌幅偏离值达7%的证券                                        | 4220.17 | 岭南股份 |   2717 |\n",
       "| 4406.32 | 2022-01-26 | 日跌幅偏离值达7%的证券                                        | 3039.90 | 千红制药 |   2550 |\n",
       "\n"
      ],
      "text/plain": [
       "  buy_inst_num date      \n",
       "1  460.27      2022-01-26\n",
       "2 2009.31      2022-01-26\n",
       "3 4907.75      2022-01-26\n",
       "4    0.00      2022-01-26\n",
       "5 4406.32      2022-01-26\n",
       "  rank_reason                                                   sell_inst_num\n",
       "1 有价格涨跌幅限制的日收盘价格涨幅达到15%的证券                  709.01      \n",
       "2 连续3个交易日内收盘价格跌幅较基准指数偏离值累计达到-30%的证券 9479.98      \n",
       "3 连续三个交易日内,涨幅偏离值累计达20%的证券                    4232.23      \n",
       "4 日跌幅偏离值达7%的证券                                        4220.17      \n",
       "5 日跌幅偏离值达7%的证券                                        3039.90      \n",
       "  stock_name stock_symbol\n",
       "1 建研设计   301167      \n",
       "2 华宝股份   300741      \n",
       "3 深南股份     2417      \n",
       "4 岭南股份     2717      \n",
       "5 千红制药     2550      "
      ]
     },
     "metadata": {},
     "output_type": "display_data"
    }
   ],
   "source": [
    "b <- fread(\"./data/2022-01-27.csv\", encoding = \"UTF-8\")\n",
    "b[order(-date)\n",
    "    ][1:5]"
   ]
  },
  {
   "cell_type": "markdown",
   "metadata": {},
   "source": [
    "合并所有数据集查看行数并导出为csv"
   ]
  },
  {
   "cell_type": "code",
   "execution_count": 5,
   "metadata": {},
   "outputs": [
    {
     "data": {
      "text/html": [
       "4660"
      ],
      "text/latex": [
       "4660"
      ],
      "text/markdown": [
       "4660"
      ],
      "text/plain": [
       "[1] 4660"
      ]
     },
     "metadata": {},
     "output_type": "display_data"
    }
   ],
   "source": [
    "DTRank <- fbread(pattern = \"*.csv\", encoding = \"UTF-8\")\n",
    "DTRank <- DTRank[, file_id := NULL, \n",
    "    ][, unique(.SD)\n",
    "    ][, stock_symbol := str_pad(stock_symbol, width = 6, side = \"left\", pad = \"0\")\n",
    "    ][order(-date, stock_symbol), .SD\n",
    "    ]\n",
    "DTRank[, .N]\n",
    "fwrite(DTRank, \"DTRank.csv\")"
   ]
  },
  {
   "cell_type": "markdown",
   "metadata": {},
   "source": [
    "## 2. 清洗合并各类股票数据"
   ]
  },
  {
   "cell_type": "markdown",
   "metadata": {},
   "source": [
    "导入日收益率文件数据"
   ]
  },
  {
   "cell_type": "code",
   "execution_count": 5,
   "metadata": {},
   "outputs": [
    {
     "data": {
      "text/html": [
       "5730194"
      ],
      "text/latex": [
       "5730194"
      ],
      "text/markdown": [
       "5730194"
      ],
      "text/plain": [
       "[1] 5730194"
      ]
     },
     "metadata": {},
     "output_type": "display_data"
    },
    {
     "data": {
      "text/html": [
       "<table class=\"dataframe\">\n",
       "<caption>A data.table: 5 × 5</caption>\n",
       "<thead>\n",
       "\t<tr><th scope=col>stock_symbol</th><th scope=col>date</th><th scope=col>Clsprc</th><th scope=col>Dnvaltrd</th><th scope=col>Dsmvosd</th></tr>\n",
       "\t<tr><th scope=col>&lt;int&gt;</th><th scope=col>&lt;date&gt;</th><th scope=col>&lt;dbl&gt;</th><th scope=col>&lt;dbl&gt;</th><th scope=col>&lt;dbl&gt;</th></tr>\n",
       "</thead>\n",
       "<tbody>\n",
       "\t<tr><td>1</td><td>2017-01-25</td><td>9.26</td><td>281976294</td><td>156660584</td></tr>\n",
       "\t<tr><td>1</td><td>2017-01-26</td><td>9.33</td><td>391844286</td><td>157844843</td></tr>\n",
       "\t<tr><td>1</td><td>2017-02-03</td><td>9.26</td><td>292617943</td><td>156660584</td></tr>\n",
       "\t<tr><td>1</td><td>2017-02-06</td><td>9.31</td><td>480441331</td><td>157506484</td></tr>\n",
       "\t<tr><td>1</td><td>2017-02-07</td><td>9.30</td><td>368755274</td><td>157337304</td></tr>\n",
       "</tbody>\n",
       "</table>\n"
      ],
      "text/latex": [
       "A data.table: 5 × 5\n",
       "\\begin{tabular}{lllll}\n",
       " stock\\_symbol & date & Clsprc & Dnvaltrd & Dsmvosd\\\\\n",
       " <int> & <date> & <dbl> & <dbl> & <dbl>\\\\\n",
       "\\hline\n",
       "\t 1 & 2017-01-25 & 9.26 & 281976294 & 156660584\\\\\n",
       "\t 1 & 2017-01-26 & 9.33 & 391844286 & 157844843\\\\\n",
       "\t 1 & 2017-02-03 & 9.26 & 292617943 & 156660584\\\\\n",
       "\t 1 & 2017-02-06 & 9.31 & 480441331 & 157506484\\\\\n",
       "\t 1 & 2017-02-07 & 9.30 & 368755274 & 157337304\\\\\n",
       "\\end{tabular}\n"
      ],
      "text/markdown": [
       "\n",
       "A data.table: 5 × 5\n",
       "\n",
       "| stock_symbol &lt;int&gt; | date &lt;date&gt; | Clsprc &lt;dbl&gt; | Dnvaltrd &lt;dbl&gt; | Dsmvosd &lt;dbl&gt; |\n",
       "|---|---|---|---|---|\n",
       "| 1 | 2017-01-25 | 9.26 | 281976294 | 156660584 |\n",
       "| 1 | 2017-01-26 | 9.33 | 391844286 | 157844843 |\n",
       "| 1 | 2017-02-03 | 9.26 | 292617943 | 156660584 |\n",
       "| 1 | 2017-02-06 | 9.31 | 480441331 | 157506484 |\n",
       "| 1 | 2017-02-07 | 9.30 | 368755274 | 157337304 |\n",
       "\n"
      ],
      "text/plain": [
       "  stock_symbol date       Clsprc Dnvaltrd  Dsmvosd  \n",
       "1 1            2017-01-25 9.26   281976294 156660584\n",
       "2 1            2017-01-26 9.33   391844286 157844843\n",
       "3 1            2017-02-03 9.26   292617943 156660584\n",
       "4 1            2017-02-06 9.31   480441331 157506484\n",
       "5 1            2017-02-07 9.30   368755274 157337304"
      ]
     },
     "metadata": {},
     "output_type": "display_data"
    }
   ],
   "source": [
    "trading <- fbread(pattern = \"*.txt\", encoding = \"UTF-8\", path = \"./data/Trading\")\n",
    "trading[, .N]\n",
    "trading <- trading[, file_id := NULL\n",
    "    ][, setnames(.SD, c(\"Stkcd\", \"Trddt\"), c(\"stock_symbol\", \"date\"))]\n",
    "trading[1:5]"
   ]
  },
  {
   "cell_type": "markdown",
   "metadata": {},
   "source": [
    "导入换手率文件数据"
   ]
  },
  {
   "cell_type": "code",
   "execution_count": 6,
   "metadata": {},
   "outputs": [
    {
     "data": {
      "text/html": [
       "5730194"
      ],
      "text/latex": [
       "5730194"
      ],
      "text/markdown": [
       "5730194"
      ],
      "text/plain": [
       "[1] 5730194"
      ]
     },
     "metadata": {},
     "output_type": "display_data"
    },
    {
     "data": {
      "text/html": [
       "<table class=\"dataframe\">\n",
       "<caption>A data.table: 5 × 4</caption>\n",
       "<thead>\n",
       "\t<tr><th scope=col>date</th><th scope=col>stock_symbol</th><th scope=col>ShortName</th><th scope=col>Turnover</th></tr>\n",
       "\t<tr><th scope=col>&lt;date&gt;</th><th scope=col>&lt;int&gt;</th><th scope=col>&lt;chr&gt;</th><th scope=col>&lt;dbl&gt;</th></tr>\n",
       "</thead>\n",
       "<tbody>\n",
       "\t<tr><td>2016-01-25</td><td>1</td><td>平安银行</td><td>0.00319</td></tr>\n",
       "\t<tr><td>2016-01-26</td><td>1</td><td>平安银行</td><td>0.00549</td></tr>\n",
       "\t<tr><td>2016-01-27</td><td>1</td><td>平安银行</td><td>0.00482</td></tr>\n",
       "\t<tr><td>2016-01-28</td><td>1</td><td>平安银行</td><td>0.00256</td></tr>\n",
       "\t<tr><td>2016-01-29</td><td>1</td><td>平安银行</td><td>0.00461</td></tr>\n",
       "</tbody>\n",
       "</table>\n"
      ],
      "text/latex": [
       "A data.table: 5 × 4\n",
       "\\begin{tabular}{llll}\n",
       " date & stock\\_symbol & ShortName & Turnover\\\\\n",
       " <date> & <int> & <chr> & <dbl>\\\\\n",
       "\\hline\n",
       "\t 2016-01-25 & 1 & 平安银行 & 0.00319\\\\\n",
       "\t 2016-01-26 & 1 & 平安银行 & 0.00549\\\\\n",
       "\t 2016-01-27 & 1 & 平安银行 & 0.00482\\\\\n",
       "\t 2016-01-28 & 1 & 平安银行 & 0.00256\\\\\n",
       "\t 2016-01-29 & 1 & 平安银行 & 0.00461\\\\\n",
       "\\end{tabular}\n"
      ],
      "text/markdown": [
       "\n",
       "A data.table: 5 × 4\n",
       "\n",
       "| date &lt;date&gt; | stock_symbol &lt;int&gt; | ShortName &lt;chr&gt; | Turnover &lt;dbl&gt; |\n",
       "|---|---|---|---|\n",
       "| 2016-01-25 | 1 | 平安银行 | 0.00319 |\n",
       "| 2016-01-26 | 1 | 平安银行 | 0.00549 |\n",
       "| 2016-01-27 | 1 | 平安银行 | 0.00482 |\n",
       "| 2016-01-28 | 1 | 平安银行 | 0.00256 |\n",
       "| 2016-01-29 | 1 | 平安银行 | 0.00461 |\n",
       "\n"
      ],
      "text/plain": [
       "  date       stock_symbol ShortName Turnover\n",
       "1 2016-01-25 1            平安银行  0.00319 \n",
       "2 2016-01-26 1            平安银行  0.00549 \n",
       "3 2016-01-27 1            平安银行  0.00482 \n",
       "4 2016-01-28 1            平安银行  0.00256 \n",
       "5 2016-01-29 1            平安银行  0.00461 "
      ]
     },
     "metadata": {},
     "output_type": "display_data"
    }
   ],
   "source": [
    "tradingDev <- fbread(pattern = \"*.txt\", encoding = \"UTF-8\", path = \"./data/TradingDev\")\n",
    "tradingDev[, .N]\n",
    "tradingDev <- tradingDev[, setnames(.SD, c('TradingDate', 'Symbol'), c('date', 'stock_symbol'))\n",
    "    ][, file_id := NULL]\n",
    "tradingDev[1:5]"
   ]
  },
  {
   "cell_type": "markdown",
   "metadata": {},
   "source": [
    "合并两个文件"
   ]
  },
  {
   "cell_type": "markdown",
   "metadata": {},
   "source": [
    "## 3. 将龙虎榜和股票交易数据合并"
   ]
  },
  {
   "cell_type": "code",
   "execution_count": null,
   "metadata": {},
   "outputs": [
    {
     "data": {
      "text/html": [
       "<table class=\"dataframe\">\n",
       "<caption>A data.table: 5 × 7</caption>\n",
       "<thead>\n",
       "\t<tr><th scope=col>date</th><th scope=col>stock_symbol</th><th scope=col>ShortName</th><th scope=col>Turnover</th><th scope=col>Clsprc</th><th scope=col>Dnvaltrd</th><th scope=col>Dsmvosd</th></tr>\n",
       "\t<tr><th scope=col>&lt;date&gt;</th><th scope=col>&lt;chr&gt;</th><th scope=col>&lt;chr&gt;</th><th scope=col>&lt;dbl&gt;</th><th scope=col>&lt;dbl&gt;</th><th scope=col>&lt;dbl&gt;</th><th scope=col>&lt;dbl&gt;</th></tr>\n",
       "</thead>\n",
       "<tbody>\n",
       "\t<tr><td>2017-01-25</td><td>000001</td><td>平安银行</td><td>0.00180</td><td>9.26</td><td>281976294</td><td>156660584</td></tr>\n",
       "\t<tr><td>2017-01-26</td><td>000001</td><td>平安银行</td><td>0.00249</td><td>9.33</td><td>391844286</td><td>157844843</td></tr>\n",
       "\t<tr><td>2017-02-03</td><td>000001</td><td>平安银行</td><td>0.00186</td><td>9.26</td><td>292617943</td><td>156660584</td></tr>\n",
       "\t<tr><td>2017-02-06</td><td>000001</td><td>平安银行</td><td>0.00305</td><td>9.31</td><td>480441331</td><td>157506484</td></tr>\n",
       "\t<tr><td>2017-02-07</td><td>000001</td><td>平安银行</td><td>0.00235</td><td>9.30</td><td>368755274</td><td>157337304</td></tr>\n",
       "</tbody>\n",
       "</table>\n"
      ],
      "text/latex": [
       "A data.table: 5 × 7\n",
       "\\begin{tabular}{lllllll}\n",
       " date & stock\\_symbol & ShortName & Turnover & Clsprc & Dnvaltrd & Dsmvosd\\\\\n",
       " <date> & <chr> & <chr> & <dbl> & <dbl> & <dbl> & <dbl>\\\\\n",
       "\\hline\n",
       "\t 2017-01-25 & 000001 & 平安银行 & 0.00180 & 9.26 & 281976294 & 156660584\\\\\n",
       "\t 2017-01-26 & 000001 & 平安银行 & 0.00249 & 9.33 & 391844286 & 157844843\\\\\n",
       "\t 2017-02-03 & 000001 & 平安银行 & 0.00186 & 9.26 & 292617943 & 156660584\\\\\n",
       "\t 2017-02-06 & 000001 & 平安银行 & 0.00305 & 9.31 & 480441331 & 157506484\\\\\n",
       "\t 2017-02-07 & 000001 & 平安银行 & 0.00235 & 9.30 & 368755274 & 157337304\\\\\n",
       "\\end{tabular}\n"
      ],
      "text/markdown": [
       "\n",
       "A data.table: 5 × 7\n",
       "\n",
       "| date &lt;date&gt; | stock_symbol &lt;chr&gt; | ShortName &lt;chr&gt; | Turnover &lt;dbl&gt; | Clsprc &lt;dbl&gt; | Dnvaltrd &lt;dbl&gt; | Dsmvosd &lt;dbl&gt; |\n",
       "|---|---|---|---|---|---|---|\n",
       "| 2017-01-25 | 000001 | 平安银行 | 0.00180 | 9.26 | 281976294 | 156660584 |\n",
       "| 2017-01-26 | 000001 | 平安银行 | 0.00249 | 9.33 | 391844286 | 157844843 |\n",
       "| 2017-02-03 | 000001 | 平安银行 | 0.00186 | 9.26 | 292617943 | 156660584 |\n",
       "| 2017-02-06 | 000001 | 平安银行 | 0.00305 | 9.31 | 480441331 | 157506484 |\n",
       "| 2017-02-07 | 000001 | 平安银行 | 0.00235 | 9.30 | 368755274 | 157337304 |\n",
       "\n"
      ],
      "text/plain": [
       "  date       stock_symbol ShortName Turnover Clsprc Dnvaltrd  Dsmvosd  \n",
       "1 2017-01-25 000001       平安银行  0.00180  9.26   281976294 156660584\n",
       "2 2017-01-26 000001       平安银行  0.00249  9.33   391844286 157844843\n",
       "3 2017-02-03 000001       平安银行  0.00186  9.26   292617943 156660584\n",
       "4 2017-02-06 000001       平安银行  0.00305  9.31   480441331 157506484\n",
       "5 2017-02-07 000001       平安银行  0.00235  9.30   368755274 157337304"
      ]
     },
     "metadata": {},
     "output_type": "display_data"
    }
   ],
   "source": [
    "stkcd_feature <- tradingDev[trading, on = .(date, stock_symbol)]\n",
    "stkcd_feature[, stock_symbol := str_pad(stock_symbol, 6, side = \"left\", pad = \"0\")\n",
    "    ][1:5]"
   ]
  },
  {
   "cell_type": "code",
   "execution_count": null,
   "metadata": {},
   "outputs": [
    {
     "data": {
      "text/html": [
       "<table class=\"dataframe\">\n",
       "<caption>A data.table: 5 × 7</caption>\n",
       "<thead>\n",
       "\t<tr><th scope=col>date</th><th scope=col>stock_symbol</th><th scope=col>ShortName</th><th scope=col>Turnover</th><th scope=col>Clsprc</th><th scope=col>Dnvaltrd</th><th scope=col>Dsmvosd</th></tr>\n",
       "\t<tr><th scope=col>&lt;date&gt;</th><th scope=col>&lt;chr&gt;</th><th scope=col>&lt;chr&gt;</th><th scope=col>&lt;dbl&gt;</th><th scope=col>&lt;dbl&gt;</th><th scope=col>&lt;dbl&gt;</th><th scope=col>&lt;dbl&gt;</th></tr>\n",
       "</thead>\n",
       "<tbody>\n",
       "\t<tr><td>2017-01-25</td><td>000001</td><td>平安银行</td><td>0.00180</td><td>9.26</td><td>281976294</td><td>156660584</td></tr>\n",
       "\t<tr><td>2017-01-26</td><td>000001</td><td>平安银行</td><td>0.00249</td><td>9.33</td><td>391844286</td><td>157844843</td></tr>\n",
       "\t<tr><td>2017-02-03</td><td>000001</td><td>平安银行</td><td>0.00186</td><td>9.26</td><td>292617943</td><td>156660584</td></tr>\n",
       "\t<tr><td>2017-02-06</td><td>000001</td><td>平安银行</td><td>0.00305</td><td>9.31</td><td>480441331</td><td>157506484</td></tr>\n",
       "\t<tr><td>2017-02-07</td><td>000001</td><td>平安银行</td><td>0.00235</td><td>9.30</td><td>368755274</td><td>157337304</td></tr>\n",
       "</tbody>\n",
       "</table>\n"
      ],
      "text/latex": [
       "A data.table: 5 × 7\n",
       "\\begin{tabular}{lllllll}\n",
       " date & stock\\_symbol & ShortName & Turnover & Clsprc & Dnvaltrd & Dsmvosd\\\\\n",
       " <date> & <chr> & <chr> & <dbl> & <dbl> & <dbl> & <dbl>\\\\\n",
       "\\hline\n",
       "\t 2017-01-25 & 000001 & 平安银行 & 0.00180 & 9.26 & 281976294 & 156660584\\\\\n",
       "\t 2017-01-26 & 000001 & 平安银行 & 0.00249 & 9.33 & 391844286 & 157844843\\\\\n",
       "\t 2017-02-03 & 000001 & 平安银行 & 0.00186 & 9.26 & 292617943 & 156660584\\\\\n",
       "\t 2017-02-06 & 000001 & 平安银行 & 0.00305 & 9.31 & 480441331 & 157506484\\\\\n",
       "\t 2017-02-07 & 000001 & 平安银行 & 0.00235 & 9.30 & 368755274 & 157337304\\\\\n",
       "\\end{tabular}\n"
      ],
      "text/markdown": [
       "\n",
       "A data.table: 5 × 7\n",
       "\n",
       "| date &lt;date&gt; | stock_symbol &lt;chr&gt; | ShortName &lt;chr&gt; | Turnover &lt;dbl&gt; | Clsprc &lt;dbl&gt; | Dnvaltrd &lt;dbl&gt; | Dsmvosd &lt;dbl&gt; |\n",
       "|---|---|---|---|---|---|---|\n",
       "| 2017-01-25 | 000001 | 平安银行 | 0.00180 | 9.26 | 281976294 | 156660584 |\n",
       "| 2017-01-26 | 000001 | 平安银行 | 0.00249 | 9.33 | 391844286 | 157844843 |\n",
       "| 2017-02-03 | 000001 | 平安银行 | 0.00186 | 9.26 | 292617943 | 156660584 |\n",
       "| 2017-02-06 | 000001 | 平安银行 | 0.00305 | 9.31 | 480441331 | 157506484 |\n",
       "| 2017-02-07 | 000001 | 平安银行 | 0.00235 | 9.30 | 368755274 | 157337304 |\n",
       "\n"
      ],
      "text/plain": [
       "  date       stock_symbol ShortName Turnover Clsprc Dnvaltrd  Dsmvosd  \n",
       "1 2017-01-25 000001       平安银行  0.00180  9.26   281976294 156660584\n",
       "2 2017-01-26 000001       平安银行  0.00249  9.33   391844286 157844843\n",
       "3 2017-02-03 000001       平安银行  0.00186  9.26   292617943 156660584\n",
       "4 2017-02-06 000001       平安银行  0.00305  9.31   480441331 157506484\n",
       "5 2017-02-07 000001       平安银行  0.00235  9.30   368755274 157337304"
      ]
     },
     "metadata": {},
     "output_type": "display_data"
    }
   ],
   "source": [
    "stkcd_feature <- tradingDev[trading, on = .(date, stock_symbol)]\n",
    "stkcd_feature[, stock_symbol := str_pad(stock_symbol, 6, side = \"left\", pad = \"0\")\n",
    "    ][1:5]"
   ]
  },
  {
   "cell_type": "code",
   "execution_count": 11,
   "metadata": {},
   "outputs": [
    {
     "data": {
      "text/html": [
       "<table class=\"dataframe\">\n",
       "<caption>A data.table: 5 × 11</caption>\n",
       "<thead>\n",
       "\t<tr><th scope=col>buy_inst_num</th><th scope=col>date</th><th scope=col>rank_reason</th><th scope=col>sell_inst_num</th><th scope=col>stock_name</th><th scope=col>stock_symbol</th><th scope=col>ShortName</th><th scope=col>Turnover</th><th scope=col>Clsprc</th><th scope=col>Dnvaltrd</th><th scope=col>Dsmvosd</th></tr>\n",
       "\t<tr><th scope=col>&lt;dbl&gt;</th><th scope=col>&lt;date&gt;</th><th scope=col>&lt;chr&gt;</th><th scope=col>&lt;dbl&gt;</th><th scope=col>&lt;chr&gt;</th><th scope=col>&lt;chr&gt;</th><th scope=col>&lt;chr&gt;</th><th scope=col>&lt;dbl&gt;</th><th scope=col>&lt;dbl&gt;</th><th scope=col>&lt;dbl&gt;</th><th scope=col>&lt;dbl&gt;</th></tr>\n",
       "</thead>\n",
       "<tbody>\n",
       "\t<tr><td>NA</td><td>2017-01-25</td><td>NA</td><td>NA</td><td>NA</td><td>000001</td><td>平安银行</td><td>0.00180</td><td>9.26</td><td>281976294</td><td>156660584</td></tr>\n",
       "\t<tr><td>NA</td><td>2017-01-26</td><td>NA</td><td>NA</td><td>NA</td><td>000001</td><td>平安银行</td><td>0.00249</td><td>9.33</td><td>391844286</td><td>157844843</td></tr>\n",
       "\t<tr><td>NA</td><td>2017-02-03</td><td>NA</td><td>NA</td><td>NA</td><td>000001</td><td>平安银行</td><td>0.00186</td><td>9.26</td><td>292617943</td><td>156660584</td></tr>\n",
       "\t<tr><td>NA</td><td>2017-02-06</td><td>NA</td><td>NA</td><td>NA</td><td>000001</td><td>平安银行</td><td>0.00305</td><td>9.31</td><td>480441331</td><td>157506484</td></tr>\n",
       "\t<tr><td>NA</td><td>2017-02-07</td><td>NA</td><td>NA</td><td>NA</td><td>000001</td><td>平安银行</td><td>0.00235</td><td>9.30</td><td>368755274</td><td>157337304</td></tr>\n",
       "</tbody>\n",
       "</table>\n"
      ],
      "text/latex": [
       "A data.table: 5 × 11\n",
       "\\begin{tabular}{lllllllllll}\n",
       " buy\\_inst\\_num & date & rank\\_reason & sell\\_inst\\_num & stock\\_name & stock\\_symbol & ShortName & Turnover & Clsprc & Dnvaltrd & Dsmvosd\\\\\n",
       " <dbl> & <date> & <chr> & <dbl> & <chr> & <chr> & <chr> & <dbl> & <dbl> & <dbl> & <dbl>\\\\\n",
       "\\hline\n",
       "\t NA & 2017-01-25 & NA & NA & NA & 000001 & 平安银行 & 0.00180 & 9.26 & 281976294 & 156660584\\\\\n",
       "\t NA & 2017-01-26 & NA & NA & NA & 000001 & 平安银行 & 0.00249 & 9.33 & 391844286 & 157844843\\\\\n",
       "\t NA & 2017-02-03 & NA & NA & NA & 000001 & 平安银行 & 0.00186 & 9.26 & 292617943 & 156660584\\\\\n",
       "\t NA & 2017-02-06 & NA & NA & NA & 000001 & 平安银行 & 0.00305 & 9.31 & 480441331 & 157506484\\\\\n",
       "\t NA & 2017-02-07 & NA & NA & NA & 000001 & 平安银行 & 0.00235 & 9.30 & 368755274 & 157337304\\\\\n",
       "\\end{tabular}\n"
      ],
      "text/markdown": [
       "\n",
       "A data.table: 5 × 11\n",
       "\n",
       "| buy_inst_num &lt;dbl&gt; | date &lt;date&gt; | rank_reason &lt;chr&gt; | sell_inst_num &lt;dbl&gt; | stock_name &lt;chr&gt; | stock_symbol &lt;chr&gt; | ShortName &lt;chr&gt; | Turnover &lt;dbl&gt; | Clsprc &lt;dbl&gt; | Dnvaltrd &lt;dbl&gt; | Dsmvosd &lt;dbl&gt; |\n",
       "|---|---|---|---|---|---|---|---|---|---|---|\n",
       "| NA | 2017-01-25 | NA | NA | NA | 000001 | 平安银行 | 0.00180 | 9.26 | 281976294 | 156660584 |\n",
       "| NA | 2017-01-26 | NA | NA | NA | 000001 | 平安银行 | 0.00249 | 9.33 | 391844286 | 157844843 |\n",
       "| NA | 2017-02-03 | NA | NA | NA | 000001 | 平安银行 | 0.00186 | 9.26 | 292617943 | 156660584 |\n",
       "| NA | 2017-02-06 | NA | NA | NA | 000001 | 平安银行 | 0.00305 | 9.31 | 480441331 | 157506484 |\n",
       "| NA | 2017-02-07 | NA | NA | NA | 000001 | 平安银行 | 0.00235 | 9.30 | 368755274 | 157337304 |\n",
       "\n"
      ],
      "text/plain": [
       "  buy_inst_num date       rank_reason sell_inst_num stock_name stock_symbol\n",
       "1 NA           2017-01-25 NA          NA            NA         000001      \n",
       "2 NA           2017-01-26 NA          NA            NA         000001      \n",
       "3 NA           2017-02-03 NA          NA            NA         000001      \n",
       "4 NA           2017-02-06 NA          NA            NA         000001      \n",
       "5 NA           2017-02-07 NA          NA            NA         000001      \n",
       "  ShortName Turnover Clsprc Dnvaltrd  Dsmvosd  \n",
       "1 平安银行  0.00180  9.26   281976294 156660584\n",
       "2 平安银行  0.00249  9.33   391844286 157844843\n",
       "3 平安银行  0.00186  9.26   292617943 156660584\n",
       "4 平安银行  0.00305  9.31   480441331 157506484\n",
       "5 平安银行  0.00235  9.30   368755274 157337304"
      ]
     },
     "metadata": {},
     "output_type": "display_data"
    }
   ],
   "source": [
    "DTanalysis <- DTRank[stkcd_feature, on = .(date, stock_symbol)]\n",
    "DTanalysis[1:5]"
   ]
  },
  {
   "cell_type": "markdown",
   "metadata": {},
   "source": [
    "## 4. 策略1\n",
    "对机构介入的、上了龙虎榜的股，不管是否涨跌停，只要机构净买入占总成交额比＞1.5％或者机构净买额占总成交额比（A％），换手率（B％），A×B＞＝20的股；选出来，再第二天的涨跌幅±2％内的股，判第三天的涨幅。第三天累积涨跌幅±3％的股，判第四天涨幅。第五天累积涨跌幅±3％的股，判第六天涨幅。"
   ]
  },
  {
   "cell_type": "code",
   "execution_count": 12,
   "metadata": {},
   "outputs": [
    {
     "data": {
      "text/html": [
       "<table class=\"dataframe\">\n",
       "<caption>A data.table: 5 × 19</caption>\n",
       "<thead>\n",
       "\t<tr><th scope=col>buy_inst_num</th><th scope=col>date</th><th scope=col>rank_reason</th><th scope=col>sell_inst_num</th><th scope=col>stock_name</th><th scope=col>stock_symbol</th><th scope=col>ShortName</th><th scope=col>Turnover</th><th scope=col>Clsprc</th><th scope=col>Dnvaltrd</th><th scope=col>Dsmvosd</th><th scope=col>net_buy_inst_num</th><th scope=col>ret</th><th scope=col>ret_2nd</th><th scope=col>ret_3rd</th><th scope=col>ret_4th</th><th scope=col>ret_5th</th><th scope=col>ret_6th</th><th scope=col>ret_7th</th></tr>\n",
       "\t<tr><th scope=col>&lt;dbl&gt;</th><th scope=col>&lt;date&gt;</th><th scope=col>&lt;chr&gt;</th><th scope=col>&lt;dbl&gt;</th><th scope=col>&lt;chr&gt;</th><th scope=col>&lt;chr&gt;</th><th scope=col>&lt;chr&gt;</th><th scope=col>&lt;dbl&gt;</th><th scope=col>&lt;dbl&gt;</th><th scope=col>&lt;dbl&gt;</th><th scope=col>&lt;dbl&gt;</th><th scope=col>&lt;dbl&gt;</th><th scope=col>&lt;dbl&gt;</th><th scope=col>&lt;dbl&gt;</th><th scope=col>&lt;dbl&gt;</th><th scope=col>&lt;dbl&gt;</th><th scope=col>&lt;dbl&gt;</th><th scope=col>&lt;dbl&gt;</th><th scope=col>&lt;dbl&gt;</th></tr>\n",
       "</thead>\n",
       "<tbody>\n",
       "\t<tr><td> 8658.03</td><td>2017-07-11</td><td>日涨幅偏离值达7%的证券                    </td><td>    0.00</td><td>平安银行</td><td>000001</td><td>平安银行</td><td>0.02253</td><td>10.25</td><td>3842010171</td><td>173409394</td><td> 8658.03</td><td> 0.06882169</td><td> 0.008780488</td><td> 0.054158607</td><td> 0.000000000</td><td>-0.008256881</td><td> 0.022201665</td><td> 0.00361991</td></tr>\n",
       "\t<tr><td>28154.20</td><td>2021-02-25</td><td>日涨幅偏离值达7%的证券                    </td><td>22422.10</td><td>万科A   </td><td>000002</td><td>万科A   </td><td>0.02671</td><td>32.99</td><td>8382663604</td><td>320582082</td><td> 5732.10</td><td> 0.10003334</td><td> 0.003334344</td><td> 0.007552870</td><td>-0.001799100</td><td> 0.006308201</td><td>-0.024179104</td><td>-0.03517895</td></tr>\n",
       "\t<tr><td>  769.45</td><td>2021-06-09</td><td>连续三个交易日内,涨幅偏离值累计达20%的证券</td><td>  788.98</td><td>国华网安</td><td>000004</td><td>国华网安</td><td>0.11303</td><td>19.82</td><td> 246709411</td><td>  2281790</td><td>  -19.53</td><td> 0.09988901</td><td> 0.099899092</td><td> 0.100000000</td><td>-0.100083403</td><td>-0.066265060</td><td> 0.038213400</td><td>-0.05449331</td></tr>\n",
       "\t<tr><td>    0.00</td><td>2019-09-03</td><td>日涨幅偏离值达7%的证券                    </td><td>  527.69</td><td>世纪星源</td><td>000005</td><td>世纪星源</td><td>0.09123</td><td> 3.48</td><td> 330930683</td><td>  3681653</td><td> -527.69</td><td> 0.10126582</td><td> 0.100574713</td><td>-0.036553525</td><td>-0.035230352</td><td>-0.002808989</td><td>-0.008450704</td><td>-0.01136364</td></tr>\n",
       "\t<tr><td>    0.00</td><td>2020-10-14</td><td>日跌幅偏离值达7%的证券                    </td><td> 1080.73</td><td>深振业A </td><td>000006</td><td>深振业A </td><td>0.05205</td><td> 6.39</td><td> 462640390</td><td>  8615688</td><td>-1080.73</td><td>-0.10000000</td><td>-0.035993740</td><td> 0.006493506</td><td> 0.003225806</td><td>-0.006430868</td><td>-0.012944984</td><td> 0.00000000</td></tr>\n",
       "</tbody>\n",
       "</table>\n"
      ],
      "text/latex": [
       "A data.table: 5 × 19\n",
       "\\begin{tabular}{lllllllllllllllllll}\n",
       " buy\\_inst\\_num & date & rank\\_reason & sell\\_inst\\_num & stock\\_name & stock\\_symbol & ShortName & Turnover & Clsprc & Dnvaltrd & Dsmvosd & net\\_buy\\_inst\\_num & ret & ret\\_2nd & ret\\_3rd & ret\\_4th & ret\\_5th & ret\\_6th & ret\\_7th\\\\\n",
       " <dbl> & <date> & <chr> & <dbl> & <chr> & <chr> & <chr> & <dbl> & <dbl> & <dbl> & <dbl> & <dbl> & <dbl> & <dbl> & <dbl> & <dbl> & <dbl> & <dbl> & <dbl>\\\\\n",
       "\\hline\n",
       "\t  8658.03 & 2017-07-11 & 日涨幅偏离值达7\\%的证券                     &     0.00 & 平安银行 & 000001 & 平安银行 & 0.02253 & 10.25 & 3842010171 & 173409394 &  8658.03 &  0.06882169 &  0.008780488 &  0.054158607 &  0.000000000 & -0.008256881 &  0.022201665 &  0.00361991\\\\\n",
       "\t 28154.20 & 2021-02-25 & 日涨幅偏离值达7\\%的证券                     & 22422.10 & 万科A    & 000002 & 万科A    & 0.02671 & 32.99 & 8382663604 & 320582082 &  5732.10 &  0.10003334 &  0.003334344 &  0.007552870 & -0.001799100 &  0.006308201 & -0.024179104 & -0.03517895\\\\\n",
       "\t   769.45 & 2021-06-09 & 连续三个交易日内,涨幅偏离值累计达20\\%的证券 &   788.98 & 国华网安 & 000004 & 国华网安 & 0.11303 & 19.82 &  246709411 &   2281790 &   -19.53 &  0.09988901 &  0.099899092 &  0.100000000 & -0.100083403 & -0.066265060 &  0.038213400 & -0.05449331\\\\\n",
       "\t     0.00 & 2019-09-03 & 日涨幅偏离值达7\\%的证券                     &   527.69 & 世纪星源 & 000005 & 世纪星源 & 0.09123 &  3.48 &  330930683 &   3681653 &  -527.69 &  0.10126582 &  0.100574713 & -0.036553525 & -0.035230352 & -0.002808989 & -0.008450704 & -0.01136364\\\\\n",
       "\t     0.00 & 2020-10-14 & 日跌幅偏离值达7\\%的证券                     &  1080.73 & 深振业A  & 000006 & 深振业A  & 0.05205 &  6.39 &  462640390 &   8615688 & -1080.73 & -0.10000000 & -0.035993740 &  0.006493506 &  0.003225806 & -0.006430868 & -0.012944984 &  0.00000000\\\\\n",
       "\\end{tabular}\n"
      ],
      "text/markdown": [
       "\n",
       "A data.table: 5 × 19\n",
       "\n",
       "| buy_inst_num &lt;dbl&gt; | date &lt;date&gt; | rank_reason &lt;chr&gt; | sell_inst_num &lt;dbl&gt; | stock_name &lt;chr&gt; | stock_symbol &lt;chr&gt; | ShortName &lt;chr&gt; | Turnover &lt;dbl&gt; | Clsprc &lt;dbl&gt; | Dnvaltrd &lt;dbl&gt; | Dsmvosd &lt;dbl&gt; | net_buy_inst_num &lt;dbl&gt; | ret &lt;dbl&gt; | ret_2nd &lt;dbl&gt; | ret_3rd &lt;dbl&gt; | ret_4th &lt;dbl&gt; | ret_5th &lt;dbl&gt; | ret_6th &lt;dbl&gt; | ret_7th &lt;dbl&gt; |\n",
       "|---|---|---|---|---|---|---|---|---|---|---|---|---|---|---|---|---|---|---|\n",
       "|  8658.03 | 2017-07-11 | 日涨幅偏离值达7%的证券                     |     0.00 | 平安银行 | 000001 | 平安银行 | 0.02253 | 10.25 | 3842010171 | 173409394 |  8658.03 |  0.06882169 |  0.008780488 |  0.054158607 |  0.000000000 | -0.008256881 |  0.022201665 |  0.00361991 |\n",
       "| 28154.20 | 2021-02-25 | 日涨幅偏离值达7%的证券                     | 22422.10 | 万科A    | 000002 | 万科A    | 0.02671 | 32.99 | 8382663604 | 320582082 |  5732.10 |  0.10003334 |  0.003334344 |  0.007552870 | -0.001799100 |  0.006308201 | -0.024179104 | -0.03517895 |\n",
       "|   769.45 | 2021-06-09 | 连续三个交易日内,涨幅偏离值累计达20%的证券 |   788.98 | 国华网安 | 000004 | 国华网安 | 0.11303 | 19.82 |  246709411 |   2281790 |   -19.53 |  0.09988901 |  0.099899092 |  0.100000000 | -0.100083403 | -0.066265060 |  0.038213400 | -0.05449331 |\n",
       "|     0.00 | 2019-09-03 | 日涨幅偏离值达7%的证券                     |   527.69 | 世纪星源 | 000005 | 世纪星源 | 0.09123 |  3.48 |  330930683 |   3681653 |  -527.69 |  0.10126582 |  0.100574713 | -0.036553525 | -0.035230352 | -0.002808989 | -0.008450704 | -0.01136364 |\n",
       "|     0.00 | 2020-10-14 | 日跌幅偏离值达7%的证券                     |  1080.73 | 深振业A  | 000006 | 深振业A  | 0.05205 |  6.39 |  462640390 |   8615688 | -1080.73 | -0.10000000 | -0.035993740 |  0.006493506 |  0.003225806 | -0.006430868 | -0.012944984 |  0.00000000 |\n",
       "\n"
      ],
      "text/plain": [
       "  buy_inst_num date       rank_reason                               \n",
       "1  8658.03     2017-07-11 日涨幅偏离值达7%的证券                    \n",
       "2 28154.20     2021-02-25 日涨幅偏离值达7%的证券                    \n",
       "3   769.45     2021-06-09 连续三个交易日内,涨幅偏离值累计达20%的证券\n",
       "4     0.00     2019-09-03 日涨幅偏离值达7%的证券                    \n",
       "5     0.00     2020-10-14 日跌幅偏离值达7%的证券                    \n",
       "  sell_inst_num stock_name stock_symbol ShortName Turnover Clsprc Dnvaltrd  \n",
       "1     0.00      平安银行   000001       平安银行  0.02253  10.25  3842010171\n",
       "2 22422.10      万科A      000002       万科A     0.02671  32.99  8382663604\n",
       "3   788.98      国华网安   000004       国华网安  0.11303  19.82   246709411\n",
       "4   527.69      世纪星源   000005       世纪星源  0.09123   3.48   330930683\n",
       "5  1080.73      深振业A    000006       深振业A   0.05205   6.39   462640390\n",
       "  Dsmvosd   net_buy_inst_num ret         ret_2nd      ret_3rd      ret_4th     \n",
       "1 173409394  8658.03          0.06882169  0.008780488  0.054158607  0.000000000\n",
       "2 320582082  5732.10          0.10003334  0.003334344  0.007552870 -0.001799100\n",
       "3   2281790   -19.53          0.09988901  0.099899092  0.100000000 -0.100083403\n",
       "4   3681653  -527.69          0.10126582  0.100574713 -0.036553525 -0.035230352\n",
       "5   8615688 -1080.73         -0.10000000 -0.035993740  0.006493506  0.003225806\n",
       "  ret_5th      ret_6th      ret_7th    \n",
       "1 -0.008256881  0.022201665  0.00361991\n",
       "2  0.006308201 -0.024179104 -0.03517895\n",
       "3 -0.066265060  0.038213400 -0.05449331\n",
       "4 -0.002808989 -0.008450704 -0.01136364\n",
       "5 -0.006430868 -0.012944984  0.00000000"
      ]
     },
     "metadata": {},
     "output_type": "display_data"
    }
   ],
   "source": [
    "DTanalysis_DT <- DTanalysis[order(stock_symbol, date), .SD # 首先根据股票和日期排序\n",
    "    ][, net_buy_inst_num := buy_inst_num - sell_inst_num # 看机构净买入量\n",
    "    ][, ret := Clsprc/shift(Clsprc, type = \"lag\", n = 1L) - 1, by = .(stock_symbol) # 计算每天的收益率\n",
    "    ][, ret_2nd := shift(Clsprc, type = \"lead\", n = 1L)/Clsprc - 1, by = .(stock_symbol)# 计算第2天的收益率\n",
    "    ][, ret_3rd := shift(Clsprc, type = \"lead\", n = 2L)/shift(Clsprc, type = \"lead\", n = 1L) - 1, by = .(stock_symbol)# 计算第3天的收益率\n",
    "    ][, ret_4th := shift(Clsprc, type = \"lead\", n = 3L)/shift(Clsprc, type = \"lead\", n = 2L) - 1, by = .(stock_symbol)# 计算第4天的收益率\n",
    "    ][, ret_5th := shift(Clsprc, type = \"lead\", n = 4L)/shift(Clsprc, type = \"lead\", n = 3L) - 1, by = .(stock_symbol)# 计算第5天的收益率\n",
    "    ][, ret_6th := shift(Clsprc, type = \"lead\", n = 5L)/shift(Clsprc, type = \"lead\", n = 4L) - 1, by = .(stock_symbol)# 计算第6天的收益率\n",
    "    ][, ret_7th := shift(Clsprc, type = \"lead\", n = 6L)/shift(Clsprc, type = \"lead\", n = 5L) - 1, by = .(stock_symbol)# 计算第7天的收益率       \n",
    "    ][!is.na(buy_inst_num), .SD\n",
    "    ]\n",
    "DTanalysis_DT[1:5]"
   ]
  },
  {
   "cell_type": "code",
   "execution_count": null,
   "metadata": {},
   "outputs": [],
   "source": []
  }
 ],
 "metadata": {
  "interpreter": {
   "hash": "b09e3d1dfd1b930bafb8d8763fb28521ad28c859c9666acc93be17b6648f0f66"
  },
  "kernelspec": {
   "display_name": "R-4.1.2",
   "language": "R",
   "name": "ir41"
  },
  "language_info": {
   "codemirror_mode": "r",
   "file_extension": ".r",
   "mimetype": "text/x-r-source",
   "name": "R",
   "pygments_lexer": "r",
   "version": "4.1.2"
  },
  "orig_nbformat": 4
 },
 "nbformat": 4,
 "nbformat_minor": 2
}
